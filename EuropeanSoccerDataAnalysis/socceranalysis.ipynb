{
 "cells": [
  {
   "cell_type": "code",
   "execution_count": null,
   "id": "5e273bb9",
   "metadata": {},
   "outputs": [],
   "source": [
    "%pip install seaborn numpy matplotlib pandas\n",
    "\n",
    "import numpy as np\n",
    "import matplotlib.pyplot as plt\n",
    "import seaborn as sns\n",
    "import pandas as pd\n",
    "import sqlite3\n",
    "\n",
    "# Put your own path here\n",
    "db_path = '/your/azure/synapse/path/database.sqlite'\n",
    "\n",
    "# Take different aspects of the database\n",
    "with sqlite3.connect(db_path) as con:\n",
    "    countries = pd.read_sql_query(\"SELECT * from Country\", con)\n",
    "    matches = pd.read_sql_query(\"SELECT * from Match\", con)\n",
    "    leagues = pd.read_sql_query(\"SELECT * from League\", con)\n",
    "    teams = pd.read_sql_query(\"SELECT * from Team\", con)\n",
    "    Player_detail = pd.read_sql_query(\"SELECT * from Player_Attributes\", con)\n",
    "    Player = pd.read_sql_query(\"SELECT * from Player\", con)\n",
    "    \n",
    "# Setting default Seaborn theme and setting maximum number of rows displayed\n",
    "sns.set()\n",
    "pd.set_option('display.max_rows', None)\n",
    "pd.set_option('display.max_columns', None)"
   ]
  },
  {
   "cell_type": "code",
   "execution_count": null,
   "id": "84f3a111",
   "metadata": {},
   "outputs": [],
   "source": [
    "# Shape the dataframe\n",
    "Player_detail.shape\n",
    "# Display the first five rows of the Player_detail DataFrame\n",
    "Player_detail.head(5)"
   ]
  },
  {
   "cell_type": "code",
   "execution_count": null,
   "id": "206aaefc",
   "metadata": {
    "scrolled": true
   },
   "outputs": [],
   "source": [
    "# Create a 2x2 grid of subplots\n",
    "fig, axes = plt.subplots(nrows=2,ncols=2,figsize=(20,14))\n",
    "\n",
    "# Extract subsets of the Player_detail DataFrame based on certain conditions\n",
    "attack_work_rate = Player_detail[Player_detail['attacking_work_rate'].isin(['medium','high','low'])]\n",
    "defence_work_rate = Player_detail[Player_detail['defensive_work_rate'].isin(['medium','high','low'])]\n",
    "\n",
    "\n",
    "# Plot a histogram of attacking work rates on the top-left subplot\n",
    "sns.histplot(attack_work_rate['attacking_work_rate'], ax=axes[0, 0], color='green')\n",
    "axes[0, 0].set_title('Distribution of Attacking Work Rates')\n",
    "axes[0, 0].set_xlabel('Attacking Work Rate')\n",
    "axes[0, 0].set_ylabel('Count')\n",
    "\n",
    "# Plot a histogram of defensive work rates on the top-right subplot\n",
    "sns.histplot(defence_work_rate['defensive_work_rate'], ax=axes[0, 1])\n",
    "axes[0, 1].set_title('Distribution of Defensive Work Rates')\n",
    "axes[0, 1].set_xlabel('Defensive Work Rate')\n",
    "axes[0, 1].set_ylabel('Count')\n",
    "\n",
    "# Plot a histogram of overall ratings on the bottom-left subplot\n",
    "sns.histplot(Player_detail['overall_rating'], ax=axes[1, 0], color='red')\n",
    "axes[1, 0].set_title('Distribution of Overall Ratings')\n",
    "axes[1, 0].set_xlabel('Overall Rating')\n",
    "axes[1, 0].set_ylabel('Count')\n",
    "\n",
    "# Plot a histogram of potentials on the bottom-right subplot\n",
    "sns.histplot(Player_detail['potential'], ax=axes[1, 1], color='orange')\n",
    "axes[1, 1].set_title('Distribution of Potentials')\n",
    "axes[1, 1].set_xlabel('Potential')\n",
    "axes[1, 1].set_ylabel('Count')\n"
   ]
  },
  {
   "cell_type": "code",
   "execution_count": null,
   "id": "0bd316fe",
   "metadata": {},
   "outputs": [],
   "source": [
    "# Display the first five rows of the Player DataFrame\n",
    "Player.head(5)\n",
    "# Combine the Player_detail and Player\n",
    "Players = pd.merge(Player_detail,Player,on='player_api_id',how='left')\n",
    "# Print the dataframes shapes\n",
    "print(Player.shape)\n",
    "print(Player_detail.shape)\n",
    "print(Players.shape)"
   ]
  },
  {
   "cell_type": "code",
   "execution_count": null,
   "id": "74429e02",
   "metadata": {},
   "outputs": [],
   "source": [
    "# Extract player data for analysis, focusing on the most recent Ballon d'Or winners and two of my favourite players(Suarez and Bale)\n",
    "ballondr = Players[Players['player_name'].isin(['Lionel Messi','Cristiano Ronaldo','Luis Suarez','Gareth Bale'])]\n",
    "ballondr.head(4)"
   ]
  },
  {
   "cell_type": "code",
   "execution_count": null,
   "id": "9675bf61",
   "metadata": {},
   "outputs": [],
   "source": [
    "# Extract the mean overall ratings of the specified players\n",
    "overall = ballondr[['overall_rating','player_name']].groupby('player_name').mean()\n",
    "overall\n",
    "# Lionel Messi and Cristiano are considered as a two of the best players from this era, Bale and Suares are also praised highly"
   ]
  },
  {
   "cell_type": "code",
   "execution_count": null,
   "id": "fb13f1f0",
   "metadata": {},
   "outputs": [],
   "source": [
    "# Checking the overall mean of the all players \n",
    "Players['overall_rating'].describe()\n",
    "# In this case the average overall rating is 68.6"
   ]
  },
  {
   "cell_type": "code",
   "execution_count": null,
   "id": "71ae4aaf",
   "metadata": {},
   "outputs": [],
   "source": [
    "from datetime import date\n",
    "# \n",
    "# Assuming 'date' and 'birthday' columns are present in the Players DataFrame\n",
    "wales = Players[Players['player_name'].isin(['Gareth Bale', 'Aaron Ramsey', 'Ben Davies', 'Joe Allen', 'Chris Gunter', 'Wayne Hennessey'])].copy()\n",
    "\n",
    "# Convert 'date' and 'birthday' columns to datetime\n",
    "wales[['date', 'birthday']] = wales[['date', 'birthday']].apply(pd.to_datetime)\n",
    "\n",
    "# Calculate age and filter players older than 18\n",
    "wales['age'] = (wales['date'] - wales['birthday']).dt.days // 365\n",
    "wales = wales[wales['age'] > 18]\n",
    "\n",
    "# Display the five first rows of the dataframe\n",
    "wales.head(5)"
   ]
  },
  {
   "cell_type": "code",
   "execution_count": null,
   "id": "00935b67",
   "metadata": {},
   "outputs": [],
   "source": [
    "# Show average ratings, age and name of selected Welsh players\n",
    "wales_rating = wales[['player_name','age','overall_rating']].groupby(['age','player_name']).mean().unstack()\n",
    "wales_rating.columns = ['Gareth Bale', 'Aaron Ramsey', 'Ben Davies', 'Joe Allen', 'Chris Gunter', 'Wayne Hennessey']\n",
    "wales_rating.head(7)"
   ]
  },
  {
   "cell_type": "code",
   "execution_count": null,
   "id": "1c3cbf07",
   "metadata": {
    "scrolled": true
   },
   "outputs": [],
   "source": [
    "# Plot the ratings of Welsh players over the age range 2008-2016\n",
    "ax = wales_rating.plot(figsize=(16, 8), marker='o')\n",
    "plt.title(\"Welsh players ratings in 2008-2016\")\n",
    "plt.xlabel(\"Age\")\n",
    "plt.ylabel(\"Rating\") \n"
   ]
  },
  {
   "cell_type": "code",
   "execution_count": null,
   "id": "e334392e",
   "metadata": {},
   "outputs": [],
   "source": [
    "# Select specific Welsh national team from the Players DataFrame\n",
    "wales = Players[Players['player_name'].isin(['Gareth Bale', 'Aaron Ramsey', 'Ben Davies', 'Joe Allen', 'Chris Gunter', 'Wayne Hennessey', 'James Collins', 'Joe Allen', 'Andy King', 'Sam Wokes', 'Hal Robson-Kanu'])]\n",
    "\n",
    "# Extract the maximum overall rating for each Welsh player and add the max column\n",
    "wales_max_rating = wales[['player_name','overall_rating']].groupby('player_name').max()\n",
    "wales_max_rating['max'] = 1\n",
    "\n",
    "# Drop duplicate rows based on player name and merge the original DataFrame with maximum rating DataFrame\n",
    "wales = pd.merge(wales,wales_max_rating,on=['player_name','overall_rating'],how='inner')\n",
    "wales = wales.drop_duplicates(subset=['player_name']).reset_index(drop=True)\n",
    "# Assign the country 'wales' to each Welsh player\n",
    "wales['country'] = 'wales'"
   ]
  },
  {
   "cell_type": "code",
   "execution_count": null,
   "id": "87daa0ad",
   "metadata": {},
   "outputs": [],
   "source": [
    "# Select specific Spanish national team from the Players DataFrame\n",
    "germany = Players[Players['player_name'].isin(['Julian Draxler', 'Sami Khedira', 'Miroslav Klose', 'Lukas Podolski', 'Mesut Oezil', 'Toni Kroos', 'Bastian Schweinsteiger', 'Philipp Lahm', 'Shkodran Mustafi', 'Jerome Boateng', 'Mats Hummels'])]\n",
    "\n",
    "# Extract the maximum overall rating for each Spanish player and add the 'max' column\n",
    "germany_max_rating = germany[['player_name','overall_rating']].groupby('player_name').max()\n",
    "germany_max_rating['max'] = 1\n",
    "\n",
    "# Drop duplicate rows based on player name and merge the original DataFrame with maximum rating DataFrame\n",
    "germany = pd.merge(germany,germany_max_rating,on=['player_name','overall_rating'],how='inner')\n",
    "germany = germany.drop_duplicates(subset=['player_name']).reset_index(drop=True)\n",
    "# Assign the country 'germany' to each German player\n",
    "germany['country'] = 'germany'"
   ]
  },
  {
   "cell_type": "code",
   "execution_count": null,
   "id": "50f0dd05",
   "metadata": {},
   "outputs": [],
   "source": [
    "# Select specific Spanish national team from the Players DataFrame\n",
    "spain = Players[Players['player_name'].isin(['David Villa', 'Juan Mata', 'Jordi Alba', 'Cesc Fabregas', 'Sergio Ramos', 'Sergio Busquets', 'Xavi Hernandez', 'Andres Iniesta', 'David Silva', 'Fernando Torres', 'Gerard Pique'])]\n",
    "\n",
    "# Extract the maximum overall rating for each Spanish player and add the 'max' column\n",
    "spain_max_rating = spain[['player_name', 'overall_rating']].groupby('player_name').max()\n",
    "spain_max_rating['max'] = 1\n",
    "\n",
    "# Drop duplicate rows based on player name and merge the original DataFrame with maximum rating DataFrame\n",
    "spain = pd.merge(spain, spain_max_rating, on=['player_name', 'overall_rating'], how='inner')\n",
    "spain = spain.drop_duplicates(subset=['player_name']).reset_index(drop=True)\n",
    "\n",
    "# Assign the country 'spain' to each Spanish player\n",
    "spain['country'] = 'spain'"
   ]
  },
  {
   "cell_type": "code",
   "execution_count": null,
   "id": "d975ccc7",
   "metadata": {
    "scrolled": true
   },
   "outputs": [],
   "source": [
    "# Concatenating DataFrames\n",
    "countries_player = pd.concat([wales,germany,spain],axis=0)\n",
    "\n",
    "# Selecting players\n",
    "selected_players = Players[Players['player_name'].isin(['David Villa', 'Juan Mata', 'Jordi Alba', 'Cesc Fabregas', 'Sergio Ramos', 'Sergio Busquets', 'Xavi Hernandez', 'Andres Iniesta', 'David Silva', 'Fernando Torres', 'Gerard Pique', 'Julian Draxler', 'Sami Khedira', 'Miroslav Klose', 'Lukas Podolski', 'Mesut Oezil', 'Toni Kroos', 'Bastian Schweinsteiger', 'Philipp Lahm', 'Shkodran Mustafi', 'Jerome Boateng', 'Mats Hummels', 'Gareth Bale', 'Aaron Ramsey', 'Ben Davies', 'Joe Allen', 'Chris Gunter', 'Wayne Hennessey', 'James Collins', 'Joe Allen', 'Andy King', 'Sam Wokes', 'Hal Robson-Kanu'])]\n",
    "\n",
    "# Create a copy of the selected_players DataFrame\n",
    "selected_players_copy = selected_players.copy()\n",
    "\n",
    "# Convert 'date' and 'birthday' columns to datetime using .loc\n",
    "selected_players_copy[['date', 'birthday']] = selected_players_copy[['date', 'birthday']].apply(pd.to_datetime)\n",
    "\n",
    "# Calculate age and filter players older than 18 using .loc\n",
    "selected_players_copy['age'] = (selected_players_copy['date'] - selected_players_copy['birthday']).dt.days // 365\n",
    "selected_players_copy = selected_players_copy[selected_players_copy['age'] > 18]"
   ]
  },
  {
   "cell_type": "code",
   "execution_count": null,
   "id": "baa0019b",
   "metadata": {
    "scrolled": true
   },
   "outputs": [],
   "source": [
    "# Show average ratings, age, and name of selected players from multiple countries\n",
    "selected_players_rating = selected_players_copy[['player_name', 'age', 'overall_rating']].groupby(['age', 'player_name']).mean().unstack()\n",
    "\n",
    "selected_players_rating.columns = ['David Villa', 'Juan Mata', 'Jordi Alba', 'Cesc Fabregas', 'Sergio Ramos', 'Sergio Busquets', 'Xavi Hernandez', 'Andres Iniesta', 'David Silva', 'Fernando Torres', 'Gerard Pique', 'Julian Draxler', 'Sami Khedira', 'Miroslav Klose', 'Lukas Podolski', 'Mesut Oezil', 'Toni Kroos', 'Bastian Schweinsteiger', 'Philipp Lahm', 'Shkodran Mustafi', 'Jerome Boateng', 'Mats Hummels', 'Gareth Bale', 'Aaron Ramsey', 'Ben Davies', 'Joe Allen', 'Chris Gunter', 'Wayne Hennessey', 'James Collins', 'Joe Allen', 'Andy King', 'Sam Wokes', 'Hal Robson-Kanu']\n",
    "\n",
    "selected_players_rating.head(10)"
   ]
  },
  {
   "cell_type": "code",
   "execution_count": null,
   "id": "558ea8d3",
   "metadata": {},
   "outputs": [],
   "source": [
    "# Plot the ratings of players from multiple countries over the age range 2008-2016\n",
    "ax = selected_players_rating.plot(figsize=(16, 8), marker='o')\n",
    "plt.title(\"Players Ratings Over Age (2008-2016) - Multiple Countries\")\n",
    "plt.xlabel(\"Age\")\n",
    "plt.ylabel(\"Rating\")\n",
    "plt.legend(title='Player Name', bbox_to_anchor=(1.05, 1), loc='upper left')\n",
    "plt.show()"
   ]
  },
  {
   "cell_type": "code",
   "execution_count": null,
   "id": "33bce363",
   "metadata": {
    "scrolled": true
   },
   "outputs": [],
   "source": [
    "# Concatenating DataFrames\n",
    "countries_player = pd.concat([wales,germany,spain],axis=0)\n",
    "# Selecting columns\n",
    "countries_player = countries_player[['player_name','overall_rating', 'potential','crossing', 'finishing','heading_accuracy',\n",
    "                                    'short_passing', 'volleys', 'dribbling', 'curve', 'free_kick_accuracy',\n",
    "                                    'long_passing', 'ball_control', 'acceleration', 'sprint_speed',\n",
    "                                    'agility', 'reactions', 'balance', 'shot_power', 'jumping', 'stamina',\n",
    "                                    'strength', 'long_shots', 'aggression', 'interceptions', 'positioning',\n",
    "                                    'vision', 'penalties', 'marking', 'standing_tackle', 'sliding_tackle','height', 'weight']]\n",
    "# Resetting index and setting player name as the new index\n",
    "countries_player = countries_player.reset_index(drop=True)\n",
    "countries_player = countries_player.set_index('overall_rating')\n",
    "#Dropping player name column\n",
    "countries_player = countries_player.drop(columns=['player_name'])\n",
    "countries_player.shape\n",
    "\n",
    "# Grouping the DataFrame by 'overall_rating' and calculating the mean for each group\n",
    "average_stats_by_rating = countries_player_sorted.groupby('overall_rating').average()\n",
    "\n",
    "# Sort the DataFrame by the 'overall_rating' column in descending order\n",
    "average_stats_by_rating = countries_player.sort_values(by='overall_rating', ascending=False)\n",
    "\n",
    "average_stats_by_rating.head(50)"
   ]
  },
  {
   "cell_type": "code",
   "execution_count": null,
   "id": "7eeb53bb",
   "metadata": {},
   "outputs": [],
   "source": [
    "# Specify the path where you want to save the CSV file\n",
    "csv_path = '/your/azure/synapse/path/soccerdata.csv'\n",
    "\n",
    "# Write the DataFrame to a CSV file\n",
    "average_stats_by_rating.to_csv(csv_path, index=True, header=True)"
   ]
  },
  {
   "cell_type": "code",
   "execution_count": null,
   "id": "de48414f",
   "metadata": {},
   "outputs": [],
   "source": []
  },
  {
   "cell_type": "code",
   "execution_count": null,
   "id": "2d5fe71c",
   "metadata": {},
   "outputs": [],
   "source": []
  },
  {
   "cell_type": "code",
   "execution_count": null,
   "id": "9073e46f",
   "metadata": {},
   "outputs": [],
   "source": []
  }
 ],
 "metadata": {
  "kernelspec": {
   "display_name": "Python 3 (ipykernel)",
   "language": "python",
   "name": "python3"
  },
  "language_info": {
   "codemirror_mode": {
    "name": "ipython",
    "version": 3
   },
   "file_extension": ".py",
   "mimetype": "text/x-python",
   "name": "python",
   "nbconvert_exporter": "python",
   "pygments_lexer": "ipython3",
   "version": "3.8.16"
  }
 },
 "nbformat": 4,
 "nbformat_minor": 5
}
